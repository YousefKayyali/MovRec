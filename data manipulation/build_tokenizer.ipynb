{
 "cells": [
  {
   "cell_type": "code",
   "execution_count": null,
   "id": "4b4a7f3b",
   "metadata": {},
   "outputs": [],
   "source": [
    "from collections import Counter\n",
    "import pandas as pd\n",
    "import numpy as np\n",
    "import re\n"
   ]
  },
  {
   "cell_type": "code",
   "execution_count": 126,
   "id": "d52b92b1",
   "metadata": {},
   "outputs": [
    {
     "data": {
      "text/plain": [
       "0                            wicked\n",
       "1                             venom\n",
       "2                         gladiator\n",
       "3       venom: let there be carnage\n",
       "4                          pleasure\n",
       "                   ...             \n",
       "7611                       robotrix\n",
       "7612                            211\n",
       "7613                   premium rush\n",
       "7614                     crows zero\n",
       "7615                          11:14\n",
       "Name: Title, Length: 7616, dtype: object"
      ]
     },
     "execution_count": 126,
     "metadata": {},
     "output_type": "execute_result"
    }
   ],
   "source": [
    "movies=pd.read_csv('../cpdata/cpdata4/movie_with_more_column.csv')\n",
    "movies.Title.str.lower()"
   ]
  },
  {
   "cell_type": "code",
   "execution_count": null,
   "id": "3a8b0fa1",
   "metadata": {},
   "outputs": [
    {
     "data": {
      "text/plain": [
       "['the ',\n",
       " ' subject is about how ',\n",
       " ' work in low level to exeute program and how to deal with multiprocessing and sync, the ',\n",
       " ' is not about system file in any operating system or it not about deeply understand specific ',\n",
       " ' which it should be, beasd on that is ',\n",
       " ' subject']"
      ]
     },
     "execution_count": 76,
     "metadata": {},
     "output_type": "execute_result"
    }
   ],
   "source": [
    "def tokenizer(df:pd.DataFrame,replacment_pattern,removel_pattern):\n",
    "    df=df.str.lower()\n",
    "    df.str.split\n",
    "    df=df.str.replace(removel_pattern)\n",
    "\n",
    "s='the os subject is about how os work in low level to exeute program and how to deal with multiprocessing and sync, the os is not about system file in any operating system or it not about deeply understand specific os which it should be, beasd on that is useless subject'\n",
    "re.sub('os','useless',s).split('useless')"
   ]
  },
  {
   "cell_type": "code",
   "execution_count": 101,
   "id": "5297c110",
   "metadata": {},
   "outputs": [
    {
     "data": {
      "text/plain": [
       "['i like TH  e MONuntating']"
      ]
     },
     "execution_count": 101,
     "metadata": {},
     "output_type": "execute_result"
    }
   ],
   "source": [
    "s='i like TH  e MONuntating '\n",
    "re.findall('i.*ON.*g',s)"
   ]
  },
  {
   "cell_type": "code",
   "execution_count": 122,
   "id": "65d81656",
   "metadata": {},
   "outputs": [
    {
     "data": {
      "text/plain": [
       "'idonoteatmasaf'"
      ]
     },
     "execution_count": 122,
     "metadata": {},
     "output_type": "execute_result"
    }
   ],
   "source": [
    "re.sub('[\\.*?$%^&0-9 ]','','i d.o not%% eat ma1??0 2***sa 65f 8 ').lower()"
   ]
  },
  {
   "cell_type": "code",
   "execution_count": 171,
   "id": "acfdada3",
   "metadata": {},
   "outputs": [
    {
     "name": "stderr",
     "output_type": "stream",
     "text": [
      "C:\\Users\\yosaf\\AppData\\Local\\Temp\\ipykernel_4016\\2459319484.py:1: UserWarning: Instantiating StringDtype without any arguments.Pass a StringDtype instance to silence this warning.\n",
      "  x=pd.DataFrame({'strmad':['.how % are yo(u) b?a&B#e']},dtype=pd.StringDtype)\n"
     ]
    },
    {
     "data": {
      "text/plain": [
       "0    .how % are yo(u) b?a&b#e\n",
       "Name: strmad, dtype: string"
      ]
     },
     "execution_count": 171,
     "metadata": {},
     "output_type": "execute_result"
    }
   ],
   "source": [
    "x=pd.DataFrame({'strmad':['.how % are yo(u) b?a&B#e']},dtype=pd.StringDtype)\n",
    "x['strmad'].str.replace(pat=r'[\\.()*&^%$#@\\s]+', repl='').str.lower()\n"
   ]
  },
  {
   "cell_type": "code",
   "execution_count": 162,
   "id": "5573524d",
   "metadata": {},
   "outputs": [
    {
     "data": {
      "text/html": [
       "<div>\n",
       "<style scoped>\n",
       "    .dataframe tbody tr th:only-of-type {\n",
       "        vertical-align: middle;\n",
       "    }\n",
       "\n",
       "    .dataframe tbody tr th {\n",
       "        vertical-align: top;\n",
       "    }\n",
       "\n",
       "    .dataframe thead th {\n",
       "        text-align: right;\n",
       "    }\n",
       "</style>\n",
       "<table border=\"1\" class=\"dataframe\">\n",
       "  <thead>\n",
       "    <tr style=\"text-align: right;\">\n",
       "      <th></th>\n",
       "      <th>strmad</th>\n",
       "    </tr>\n",
       "  </thead>\n",
       "  <tbody>\n",
       "    <tr>\n",
       "      <th>0</th>\n",
       "      <td>.how % are yo(u) b?a&amp;B#e</td>\n",
       "    </tr>\n",
       "  </tbody>\n",
       "</table>\n",
       "</div>"
      ],
      "text/plain": [
       "                     strmad\n",
       "0  .how % are yo(u) b?a&B#e"
      ]
     },
     "execution_count": 162,
     "metadata": {},
     "output_type": "execute_result"
    }
   ],
   "source": [
    "x"
   ]
  },
  {
   "cell_type": "code",
   "execution_count": 168,
   "id": "e6766d39",
   "metadata": {},
   "outputs": [
    {
     "name": "stdout",
     "output_type": "stream",
     "text": [
      "               text      clean_text\n",
      "0    hello   world!  hello   world!\n",
      "1     how are you?     how are you?\n",
      "2          $%!# 123        $%!# 123\n"
     ]
    }
   ],
   "source": [
    "import pandas as pd\n",
    "\n",
    "df = pd.DataFrame({'text': ['hello   world!', '   how are you? ', '   $%!# 123']})\n",
    "text_column = df['text']\n",
    "\n",
    "clean_text = text_column.str.replace(r'[^a-zA-Z0-9 ]+', '').str.replace(r'\\s+', ' ').str.strip()\n",
    "\n",
    "df['clean_text'] = clean_text\n",
    "\n",
    "print(df)"
   ]
  },
  {
   "cell_type": "code",
   "execution_count": null,
   "id": "deeccc8a",
   "metadata": {},
   "outputs": [],
   "source": []
  }
 ],
 "metadata": {
  "kernelspec": {
   "display_name": "Python 3",
   "language": "python",
   "name": "python3"
  },
  "language_info": {
   "codemirror_mode": {
    "name": "ipython",
    "version": 3
   },
   "file_extension": ".py",
   "mimetype": "text/x-python",
   "name": "python",
   "nbconvert_exporter": "python",
   "pygments_lexer": "ipython3",
   "version": "3.10.11"
  }
 },
 "nbformat": 4,
 "nbformat_minor": 5
}
